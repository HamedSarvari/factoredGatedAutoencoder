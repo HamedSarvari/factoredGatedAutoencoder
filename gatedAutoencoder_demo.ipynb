{
 "cells": [
  {
   "cell_type": "code",
   "execution_count": 1,
   "metadata": {},
   "outputs": [
    {
     "name": "stdout",
     "output_type": "stream",
     "text": [
      "total: 20\n",
      "Epoch: 000/005 cost: 139.672025000\n",
      "total: 20\n",
      "Epoch: 001/005 cost: 139.671450000\n",
      "total: 20\n",
      "Epoch: 002/005 cost: 139.671350000\n",
      "total: 20\n",
      "Epoch: 003/005 cost: 139.671450000\n",
      "total: 20\n",
      "Epoch: 004/005 cost: 139.671125000\n",
      "done training\n",
      "saving done\n"
     ]
    }
   ],
   "source": [
    "import numpy as np\n",
    "import matplotlib.pyplot as plt\n",
    "import sys\n",
    "sys.path.insert(0, './')\n",
    "from gatedAutoencoder import FactoredGatedAutoencoder\n",
    "\n",
    "X = np.load('./shiftsuniform_x.npy').astype('float32')\n",
    "Y = np.load('./shiftsuniform_y.npy').astype('float32')\n",
    "\n",
    "model = FactoredGatedAutoencoder(numFactors=100, numHidden=25)\n",
    "\n",
    "\n",
    "model.train(X,Y, epochs=5)\n",
    "\n",
    "model.save('test')"
   ]
  }
 ],
 "metadata": {
  "kernelspec": {
   "display_name": "Python 3",
   "language": "python",
   "name": "python3"
  },
  "language_info": {
   "codemirror_mode": {
    "name": "ipython",
    "version": 3
   },
   "file_extension": ".py",
   "mimetype": "text/x-python",
   "name": "python",
   "nbconvert_exporter": "python",
   "pygments_lexer": "ipython3",
   "version": "3.6.2"
  }
 },
 "nbformat": 4,
 "nbformat_minor": 2
}
